{
 "cells": [
  {
   "cell_type": "markdown",
   "metadata": {},
   "source": [
    "Q1. Discuss string slicing and provide examples.\n",
    "Ans: String slicing in Python allows you to create a substring from a given string using the syntax string[start:end:step]. This technique enables flexible access to parts of a string.\n",
    "\n",
    "Components of Slicing:\n",
    "start: The index where the slice begins (inclusive).\n",
    "end: The index where the slice ends (exclusive).\n",
    "step: The interval between each character in the slice (optional).\n",
    "\n",
    "Example:"
   ]
  },
  {
   "cell_type": "code",
   "execution_count": null,
   "metadata": {},
   "outputs": [],
   "source": [
    "text = \"hello, world!\"\n",
    "substring = text[0:5]  # 'hello'\n",
    "print(substring)\n"
   ]
  },
  {
   "cell_type": "markdown",
   "metadata": {},
   "source": [
    "Q2. Explain the key features of lists in Python.\n",
    "Ans: \n",
    "1.Lists in Python are versatile and widely used data structures. Here are some key features:\n",
    "\n",
    "2.Ordered: Lists maintain the order of elements, meaning that items are stored and retrieved based on their position.\n",
    "\n",
    "3.Mutable: You can modify a list after its creation by adding, removing, or changing elements.\n",
    "\n",
    "4.Dynamic Size: Lists can grow or shrink in size as you add or remove elements, allowing for flexible data management.\n",
    "\n",
    "5.Heterogeneous: Lists can contain elements of different data types (e.g., integers, strings, other lists).\n",
    "\n",
    "6.Indexing and Slicing: You can access elements using their index (starting from 0) and can slice lists to retrieve subsets of elements.\n",
    "\n",
    "7.Built-in Methods: Lists come with a variety of built-in methods (e.g., append(), remove(), sort(), reverse()) for easy manipulation.\n",
    "\n",
    "8.Nested Lists: Lists can contain other lists, allowing for multi-dimensional data structures.\n",
    "\n",
    "Example:"
   ]
  },
  {
   "cell_type": "code",
   "execution_count": null,
   "metadata": {},
   "outputs": [],
   "source": [
    "my_list = [1, \"hello\", 3.14, [5, 6]]\n",
    "my_list.append(7)           # Add an element\n",
    "print(my_list[1])           # Output: 'hello'\n",
    "print(my_list[-1])          # Output: [5, 6]\n",
    "print(my_list[3][0])        # Output: 5\n"
   ]
  },
  {
   "cell_type": "markdown",
   "metadata": {},
   "source": [
    "Q3. Describe how to access, modify, and delete elements in a list with examples.\n",
    "Ans:Accessing, modifying, and deleting elements in a Python list is straightforward. Here’s how to do each:\n",
    "\n",
    "Accessing Elements\n",
    "You can access elements in a list using their index, with indexing starting at 0.\n",
    "\n",
    "Example:"
   ]
  },
  {
   "cell_type": "code",
   "execution_count": null,
   "metadata": {},
   "outputs": [],
   "source": [
    "my_list = [10, 20, 30, 40, 50]\n",
    "print(my_list[0])  # Output: 10 (first element)\n",
    "print(my_list[2])  # Output: 30 (third element)\n",
    "print(my_list[-1]) # Output: 50 (last element)\n"
   ]
  },
  {
   "cell_type": "markdown",
   "metadata": {},
   "source": [
    "Modifying Elements\n",
    "You can change the value of an element by specifying its index.\n",
    "\n",
    "Example:"
   ]
  },
  {
   "cell_type": "code",
   "execution_count": null,
   "metadata": {},
   "outputs": [],
   "source": [
    "my_list = [10, 20, 30, 40, 50]\n",
    "my_list[1] = 25  # Change second element\n",
    "print(my_list)   # Output: [10, 25, 30, 40, 50]\n"
   ]
  },
  {
   "cell_type": "markdown",
   "metadata": {},
   "source": [
    "Deleting Elements\n",
    "You can delete elements using the del statement, remove() method, or pop() method.\n",
    "\n",
    "1.Using del"
   ]
  },
  {
   "cell_type": "code",
   "execution_count": null,
   "metadata": {},
   "outputs": [],
   "source": [
    "my_list = [10, 20, 30, 40, 50]\n",
    "del my_list[2]  # Remove third element\n",
    "print(my_list)  # Output: [10, 20, 40, 50]\n"
   ]
  },
  {
   "cell_type": "markdown",
   "metadata": {},
   "source": [
    "2.Using remove() (removes the first occurrence of a value):"
   ]
  },
  {
   "cell_type": "code",
   "execution_count": null,
   "metadata": {},
   "outputs": [],
   "source": [
    "my_list = [10, 20, 30, 20, 50]\n",
    "my_list.remove(20)  # Remove the first occurrence of 20\n",
    "print(my_list)      # Output: [10, 30, 20, 50]\n"
   ]
  },
  {
   "cell_type": "markdown",
   "metadata": {},
   "source": [
    "3.Using pop() (removes and returns an element at a specified index):"
   ]
  },
  {
   "cell_type": "code",
   "execution_count": null,
   "metadata": {},
   "outputs": [],
   "source": [
    "my_list = [10, 20, 30, 40, 50]\n",
    "popped_value = my_list.pop(1)  # Remove second element\n",
    "print(popped_value)  # Output: 20\n",
    "print(my_list)       # Output: [10, 30, 40, 50]\n"
   ]
  },
  {
   "cell_type": "markdown",
   "metadata": {},
   "source": [
    "Q4.Compare and contrast tuples and lists with examples.\n",
    "Ans: Tuples and lists are both built-in data structures in Python that allow you to store collections of items. However, they have some key differences. Here’s a comparison:\n",
    "\n",
    "1. Mutability\n",
    "Lists: Mutable, meaning you can change their contents after creation.\n",
    "Tuples: Immutable, meaning once a tuple is created, you cannot modify its contents.\n",
    "Example:"
   ]
  },
  {
   "cell_type": "code",
   "execution_count": null,
   "metadata": {},
   "outputs": [],
   "source": [
    "# List example\n",
    "my_list = [1, 2, 3]\n",
    "my_list[1] = 5  # Modifying an element\n",
    "print(my_list)  # Output: [1, 5, 3]\n",
    "\n",
    "# Tuple example\n",
    "my_tuple = (1, 2, 3)\n",
    "# my_tuple[1] = 5  # This would raise a TypeError\n"
   ]
  },
  {
   "cell_type": "markdown",
   "metadata": {},
   "source": [
    "2. Syntax\n",
    "Lists: Defined using square brackets [].\n",
    "Tuples: Defined using parentheses ().\n",
    "Example:"
   ]
  },
  {
   "cell_type": "code",
   "execution_count": null,
   "metadata": {},
   "outputs": [],
   "source": [
    "# List\n",
    "my_list = [1, 2, 3]\n",
    "\n",
    "# Tuple\n",
    "my_tuple = (1, 2, 3)\n"
   ]
  },
  {
   "cell_type": "markdown",
   "metadata": {},
   "source": [
    "3. Performance\n",
    "Lists: Slightly slower than tuples due to their mutability.\n",
    "Tuples: Generally faster for iteration and have a smaller memory footprint.\n",
    "4. Use Cases\n",
    "Lists: Ideal for collections of items that may need to be modified, like a list of user inputs.\n",
    "Tuples: Best for fixed collections of items, such as coordinates or records, where immutability is desirable.\n",
    "Example:"
   ]
  },
  {
   "cell_type": "code",
   "execution_count": null,
   "metadata": {},
   "outputs": [],
   "source": [
    "# List of items\n",
    "shopping_list = ['apples', 'bananas', 'oranges']\n",
    "shopping_list.append('grapes')  # Lists can be modified\n",
    "\n",
    "# Tuple of coordinates\n",
    "coordinates = (10.0, 20.0)\n",
    "# coordinates[0] = 15.0  # This would raise a TypeError\n"
   ]
  },
  {
   "cell_type": "markdown",
   "metadata": {},
   "source": [
    "5. Methods\n",
    "Lists: Have numerous built-in methods (e.g., append(), remove(), sort()).\n",
    "Tuples: Have fewer methods (e.g., count(), index()).\n",
    "Summary\n",
    "Mutability: Lists are mutable; tuples are immutable.\n",
    "Syntax: Lists use []; tuples use ().\n",
    "Performance: Tuples are generally faster and use less memory.\n",
    "Use Cases: Use lists for collections that change; use tuples for fixed data."
   ]
  },
  {
   "cell_type": "markdown",
   "metadata": {},
   "source": [
    "Q.5 Describe the key features of sets and provide examples of their use.\n",
    "Ans: Sets in Python are built-in data structures that store unordered collections of unique elements. Here are some key features of sets:\n",
    "\n",
    "Key Features\n",
    "1.Unordered: Sets do not maintain the order of elements. The items are stored in a way that does not preserve their insertion order.\n",
    "\n",
    "2.Unique Elements: A set automatically removes duplicate items. Each element can appear only once in a set.\n",
    "\n",
    "3.Mutable: You can add or remove elements from a set after its creation.\n",
    "\n",
    "4.Supports Mathematical Set Operations: Sets can be used to perform operations like union, intersection, difference, and symmetric difference.\n",
    "\n",
    "5.No Indexing: Since sets are unordered, you cannot access elements by index or slice them.\n",
    "\n",
    "6.Dynamic Size: Sets can grow or shrink as elements are added or removed.\n",
    "\n",
    "Examples of Use\n",
    "1.Creating a Set:"
   ]
  },
  {
   "cell_type": "code",
   "execution_count": null,
   "metadata": {},
   "outputs": [],
   "source": [
    "my_set = {1, 2, 3, 4}\n",
    "print(my_set)  # Output: {1, 2, 3, 4}\n"
   ]
  },
  {
   "cell_type": "markdown",
   "metadata": {},
   "source": [
    "2.Adding elemnts:"
   ]
  },
  {
   "cell_type": "code",
   "execution_count": null,
   "metadata": {},
   "outputs": [],
   "source": [
    "my_set.add(5)\n",
    "print(my_set)  # Output: {1, 2, 3, 4, 5}\n"
   ]
  },
  {
   "cell_type": "markdown",
   "metadata": {},
   "source": [
    "3. Removing elements:\n"
   ]
  },
  {
   "cell_type": "code",
   "execution_count": null,
   "metadata": {},
   "outputs": [],
   "source": [
    "my_set.remove(3)  # Raises KeyError if the element is not found\n",
    "print(my_set)      # Output: {1, 2, 4, 5}\n",
    "\n",
    "my_set.discard(2)  # Does not raise an error if the element is not found\n",
    "print(my_set)      # Output: {1, 4, 5}\n"
   ]
  },
  {
   "cell_type": "markdown",
   "metadata": {},
   "source": [
    "4. Set operations:"
   ]
  },
  {
   "cell_type": "code",
   "execution_count": null,
   "metadata": {},
   "outputs": [],
   "source": [
    "set_a = {1, 2, 3}\n",
    "set_b = {3, 4, 5}\n",
    "\n",
    "# Union\n",
    "union = set_a | set_b  # or set_a.union(set_b)\n",
    "print(union)  # Output: {1, 2, 3, 4, 5}\n",
    "\n",
    "# Intersection\n",
    "intersection = set_a & set_b  # or set_a.intersection(set_b)\n",
    "print(intersection)  # Output: {3}\n",
    "\n",
    "# Difference\n",
    "difference = set_a - set_b  # or set_a.difference(set_b)\n",
    "print(difference)  # Output: {1, 2}\n"
   ]
  },
  {
   "cell_type": "markdown",
   "metadata": {},
   "source": [
    "5. Using Sets for Removing Duplicates:"
   ]
  },
  {
   "cell_type": "code",
   "execution_count": null,
   "metadata": {},
   "outputs": [],
   "source": [
    "my_list = [1, 2, 2, 3, 4, 4, 5]\n",
    "unique_set = set(my_list)\n",
    "print(unique_set)  # Output: {1, 2, 3, 4, 5}\n"
   ]
  },
  {
   "cell_type": "markdown",
   "metadata": {},
   "source": [
    "Q.6 Discuss the use cases of tuples and sets in Python programming.\n",
    "Ans: Use Cases of Tuples and Sets in Python Programming\n",
    "Tuples:\n",
    "\n",
    "Immutable Collections: Tuples are useful for storing fixed data that shouldn't change, such as coordinates or configurations."
   ]
  },
  {
   "cell_type": "code",
   "execution_count": null,
   "metadata": {},
   "outputs": [],
   "source": [
    "point = (10, 20)\n"
   ]
  },
  {
   "cell_type": "markdown",
   "metadata": {},
   "source": [
    "Returning Multiple Values: Functions can return multiple values as tuples, allowing easy unpacking."
   ]
  },
  {
   "cell_type": "code",
   "execution_count": null,
   "metadata": {},
   "outputs": [],
   "source": [
    "def get_dimensions():\n",
    "    return (1920, 1080)\n",
    "width, height = get_dimensions()\n"
   ]
  },
  {
   "cell_type": "markdown",
   "metadata": {},
   "source": [
    "Dictionary Keys: Tuples can be used as keys in dictionaries because they are hashable.\n"
   ]
  },
  {
   "cell_type": "code",
   "execution_count": null,
   "metadata": {},
   "outputs": [],
   "source": [
    "location = {(10, 20): \"Point A\"}\n"
   ]
  },
  {
   "cell_type": "markdown",
   "metadata": {},
   "source": [
    "Data Integrity: Tuples help ensure that the data remains unchanged throughout the program."
   ]
  },
  {
   "cell_type": "code",
   "execution_count": null,
   "metadata": {},
   "outputs": [],
   "source": [
    "user_info = (\"Alice\", 30)\n"
   ]
  },
  {
   "cell_type": "markdown",
   "metadata": {},
   "source": [
    "Lightweight Structures: They are more memory-efficient than lists for small collections."
   ]
  },
  {
   "cell_type": "markdown",
   "metadata": {},
   "source": [
    "Sets:\n",
    "\n",
    "Unique Collections: Sets automatically handle duplicates, making them ideal for storing unique items."
   ]
  },
  {
   "cell_type": "code",
   "execution_count": null,
   "metadata": {},
   "outputs": [],
   "source": [
    "unique_numbers = set([1, 2, 2, 3])\n"
   ]
  },
  {
   "cell_type": "markdown",
   "metadata": {},
   "source": [
    "Membership Testing: Sets provide O(1) average time complexity for membership tests, making them efficient."
   ]
  },
  {
   "cell_type": "code",
   "execution_count": null,
   "metadata": {},
   "outputs": [],
   "source": [
    "if 2 in unique_numbers:\n",
    "    print(\"Found 2\")\n"
   ]
  },
  {
   "cell_type": "markdown",
   "metadata": {},
   "source": [
    "Mathematical Operations: Sets can perform union, intersection, and difference operations easily."
   ]
  },
  {
   "cell_type": "code",
   "execution_count": null,
   "metadata": {},
   "outputs": [],
   "source": [
    "set_a = {1, 2, 3}\n",
    "set_b = {3, 4, 5}\n",
    "print(set_a & set_b)  # Output: {3}\n"
   ]
  },
  {
   "cell_type": "markdown",
   "metadata": {},
   "source": [
    "Data Deduplication: Quickly remove duplicates from lists or other collections."
   ]
  },
  {
   "cell_type": "code",
   "execution_count": null,
   "metadata": {},
   "outputs": [],
   "source": [
    "items = ['apple', 'banana', 'apple']\n",
    "unique_items = set(items)  # Output: {'apple', 'banana'}\n"
   ]
  },
  {
   "cell_type": "markdown",
   "metadata": {},
   "source": [
    "Tracking Events: Use sets to track unique occurrences, like user logins."
   ]
  },
  {
   "cell_type": "markdown",
   "metadata": {},
   "source": [
    "Q.7 Describe how to add, modify, and delete items in a dictionary with examples.\n",
    "Ans:  Adding, Modifying, and Deleting Items in a Dictionary\n",
    "Adding Items: You can add a new key-value pair to a dictionary using the assignment operator."
   ]
  },
  {
   "cell_type": "code",
   "execution_count": null,
   "metadata": {},
   "outputs": [],
   "source": [
    "my_dict = {'a': 1, 'b': 2}\n",
    "my_dict['c'] = 3  # Add a new key-value pair\n",
    "print(my_dict)  # Output: {'a': 1, 'b': 2, 'c': 3}\n"
   ]
  },
  {
   "cell_type": "markdown",
   "metadata": {},
   "source": [
    "Modifying Items: You can change the value associated with an existing key."
   ]
  },
  {
   "cell_type": "code",
   "execution_count": null,
   "metadata": {},
   "outputs": [],
   "source": [
    "my_dict['b'] = 4  # Modify the value of key 'b'\n",
    "print(my_dict)  # Output: {'a': 1, 'b': 4, 'c': 3}\n"
   ]
  },
  {
   "cell_type": "markdown",
   "metadata": {},
   "source": [
    "Deleting Items: You can remove a key-value pair using the del statement or the pop() method."
   ]
  },
  {
   "cell_type": "code",
   "execution_count": null,
   "metadata": {},
   "outputs": [],
   "source": [
    "del my_dict['a']  # Remove key 'a'\n",
    "print(my_dict)  # Output: {'b': 4, 'c': 3}\n",
    "\n",
    "value = my_dict.pop('b')  # Remove key 'b' and get its value\n",
    "print(value)  # Output: 4\n",
    "print(my_dict)  # Output: {'c': 3}\n"
   ]
  },
  {
   "cell_type": "markdown",
   "metadata": {},
   "source": [
    "Q.8 Discuss the importance of dictionary keys being immutable and provide examples.\n",
    "Ans:Importance of Dictionary Keys Being Immutable\n",
    "Key Characteristics:\n",
    "\n",
    "Hashable: Dictionary keys must be hashable, meaning they cannot change. This property allows Python to efficiently retrieve values associated with keys.\n",
    "Examples:\n",
    "\n",
    "Using Immutable Types: Tuples can be keys because they are immutable."
   ]
  },
  {
   "cell_type": "code",
   "execution_count": null,
   "metadata": {},
   "outputs": [],
   "source": [
    "location_data = {(10, 20): \"Point A\"}\n"
   ]
  },
  {
   "cell_type": "markdown",
   "metadata": {},
   "source": [
    "neligible Mutable Types: Lists cannot be used as keys since they are mutable."
   ]
  },
  {
   "cell_type": "code",
   "execution_count": null,
   "metadata": {},
   "outputs": [],
   "source": [
    "# This will raise a TypeError\n",
    "my_dict = {[1, 2]: \"List as key\"}  \n"
   ]
  },
  {
   "cell_type": "markdown",
   "metadata": {},
   "source": [
    "Consequences of Immutability:\n",
    "\n",
    "Immutability ensures that the keys remain stable throughout the program, which is crucial for maintaining the integrity of the dictionary's structure. If keys could change, it would disrupt the mapping and lead to unpredictable behavior.\n",
    "These principles make dictionaries a powerful and flexible data structure in Python, allowing for efficient data retrieval and management."
   ]
  }
 ],
 "metadata": {
  "language_info": {
   "name": "python"
  }
 },
 "nbformat": 4,
 "nbformat_minor": 2
}
